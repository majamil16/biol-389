{
 "cells": [
  {
   "cell_type": "code",
   "execution_count": null,
   "metadata": {},
   "outputs": [],
   "source": [
    "#Adapted to work w leech files. Basic code is the same."
   ]
  },
  {
   "cell_type": "code",
   "execution_count": 102,
   "metadata": {},
   "outputs": [],
   "source": [
    "import numpy as np"
   ]
  },
  {
   "cell_type": "code",
   "execution_count": 130,
   "metadata": {},
   "outputs": [
    {
     "data": {
      "text/plain": [
       "'\\n#filenames = [\"D_base_n3_25uM_4AP_ganglia6_0000\", \"F_base_r1_25mM_tea_ganglia3_0000\", \"G_base_r1_25mM_tea_ganglia4_0000\",\\n\"I_base_r1_25uM_4AP_ganglia6_0000\",\\n\"J_base_r1_control_0000_ganglia1\",\\n\"Q_base_r2_control_0000_ganglia1\",\\n\"K_base_r1_control_ganglia3_0001\",\\n\"M_base_r2_25mM_tea_ganglia3_0000\",\\n\"O_base_r2_25uM_4AP_ganglia5_0000\",\\n\"P_base_r2_25uM_4AP_ganglia6_0000\"]\\n'"
      ]
     },
     "execution_count": 130,
     "metadata": {},
     "output_type": "execute_result"
    }
   ],
   "source": [
    "#input_file = \"egl_ser_and_tyramine_0002\" #file format: justregular, egl_ser_and_tyramine_0002\n",
    "\n",
    "#WT experimental\n",
    "\n",
    "#WT control\n",
    "\"\"\"\n",
    "#filenames = [\"D_base_n3_25uM_4AP_ganglia6_0000\", \"F_base_r1_25mM_tea_ganglia3_0000\", \"G_base_r1_25mM_tea_ganglia4_0000\",\n",
    "\"I_base_r1_25uM_4AP_ganglia6_0000\",\n",
    "\"J_base_r1_control_0000_ganglia1\",\n",
    "\"Q_base_r2_control_0000_ganglia1\",\n",
    "\"K_base_r1_control_ganglia3_0001\",\n",
    "\"M_base_r2_25mM_tea_ganglia3_0000\",\n",
    "\"O_base_r2_25uM_4AP_ganglia5_0000\",\n",
    "\"P_base_r2_25uM_4AP_ganglia6_0000\"]\n",
    "\"\"\"\n",
    "#input_file = \"WT_ser_only_0005.txt\""
   ]
  },
  {
   "cell_type": "code",
   "execution_count": 137,
   "metadata": {},
   "outputs": [],
   "source": [
    "#takes all the desired lines and stores in an array.\n",
    "def cleanFile(filename):\n",
    "    mylines = []\n",
    "    with open(filename, \"rt\") as myfile: \n",
    "        for myline in myfile:\n",
    "            if (myline.startswith(\"Measure\")) or (myline.startswith(\"Time\") or (myline.startswith(\"IN\")) or (myline == '\\n')):\n",
    "                myline.rstrip('\\n')\n",
    "            else:\n",
    "                mylines.append(myline.rstrip('\\n'))\n",
    "    myfile.close()\n",
    "    return mylines\n"
   ]
  },
  {
   "cell_type": "code",
   "execution_count": 138,
   "metadata": {},
   "outputs": [],
   "source": [
    "#for file in filenames:\n",
    " #   cleanedFile = cleanFile(file)\n",
    "    #\n",
    "#for file in filenames:\n",
    " #   cleanedFile = cleanFile(file)\n",
    "\n",
    "#cleaned_file = cleanFile(input_file) #output of clean_file is this; to be use in write to file\n",
    "\n",
    "#clean all the files...\n",
    "#cleaned_file2 = cleanFile(inputfile2)"
   ]
  },
  {
   "cell_type": "code",
   "execution_count": 139,
   "metadata": {},
   "outputs": [
    {
     "data": {
      "text/plain": [
       "'         \\ndef writeToFile2(filename): #input what you want ur file to be called as the filename: CLEAN_egl_ser_and_tyramine_0002\\n #   cleanedFile2 = cleanFile(file)\\n    with open(filename, \"wt\") as myfile: \\n        for i, line in enumerate(cleaned_files):\\n            myfile.writelines(line+ \\'\\n\\')\\n'"
      ]
     },
     "execution_count": 139,
     "metadata": {},
     "output_type": "execute_result"
    }
   ],
   "source": [
    "#writes to a file, you input what you want the file to be called w filename.\n",
    "def writeToFile(filename): #input what you want ur file to be called as the filename: CLEAN_egl_ser_and_tyramine_0002\n",
    "    with open(filename, \"wt\") as myfile: \n",
    "        for line in cleaned_file:\n",
    "            myfile.writelines(line+ '\\n')\n",
    "    myfile.close()\n",
    "\"\"\"         \n",
    "def writeToFile2(filename): #input what you want ur file to be called as the filename: CLEAN_egl_ser_and_tyramine_0002\n",
    " #   cleanedFile2 = cleanFile(file)\n",
    "    with open(filename, \"wt\") as myfile: \n",
    "        for i, line in enumerate(cleaned_files):\n",
    "            myfile.writelines(line+ '\\n')\n",
    "\"\"\"\n"
   ]
  },
  {
   "cell_type": "code",
   "execution_count": 145,
   "metadata": {},
   "outputs": [
    {
     "name": "stdout",
     "output_type": "stream",
     "text": [
      "10\n"
     ]
    }
   ],
   "source": [
    "filenames = [\"D_base_n3_25uM_4AP_ganglia6_0000\", \"F_base_r1_25mM_tea_ganglia3_0000\", \"G_base_r1_25mM_tea_ganglia4_0000\",\n",
    "\"I_base_r1_25uM_4AP_ganglia6_0000\",\n",
    "\"J_base_r1_control_0000_ganglia1\",\n",
    "\"Q_base_r2_control_0000_ganglia1\",\n",
    "\"K_base_r1_control_ganglia3_0001\",\n",
    "\"M_base_r2_25mM_tea_ganglia3_0000\",\n",
    "\"O_base_r2_25uM_4AP_ganglia5_0000\",\n",
    "\"P_base_r2_25uM_4AP_ganglia6_0000\"]\n",
    "\n",
    "print(len(filenames))"
   ]
  },
  {
   "cell_type": "code",
   "execution_count": 150,
   "metadata": {},
   "outputs": [
    {
     "name": "stdout",
     "output_type": "stream",
     "text": [
      "0  done!\n",
      "1  done!\n",
      "2  done!\n",
      "3  done!\n",
      "4  done!\n",
      "5  done!\n",
      "6  done!\n",
      "7  done!\n",
      "8  done!\n",
      "9  done!\n",
      "10  done!\n",
      "11  done!\n",
      "12  done!\n",
      "13  done!\n",
      "14  done!\n",
      "15  done!\n",
      "16  done!\n",
      "17  done!\n"
     ]
    }
   ],
   "source": [
    "#note: for now, hardcode in the input array of file names as \"testfiles... :P\"\n",
    "\"\"\"\n",
    "testfiles = [\"D_base_n3_25uM_4AP_ganglia6_0000\", \"F_base_r1_25mM_tea_ganglia3_0000\", \"G_base_r1_25mM_tea_ganglia4_0000\",\n",
    "\"I_base_r1_25uM_4AP_ganglia6_0000\",\n",
    "\"J_base_r1_control_0000_ganglia1\",\n",
    "\"Q_base_r2_control_0000_ganglia1\",\n",
    "\"K_base_r1_control_ganglia3_0001\",\n",
    "\"M_base_r2_25mM_tea_ganglia3_0000\",\n",
    "\"O_base_r2_25uM_4AP_ganglia5_0000\",\n",
    "\"P_base_r2_25uM_4AP_ganglia6_0000\"]\n",
    "\"\"\"\n",
    "\n",
    "testfiles = [\"A_inj_n1_25uM_4AP_ganglia5_0000\",\n",
    "\"B_inj_n2_25uM_4AP_ganglia6_0000\",\n",
    "\"C_inj_n2_25uM_4AP_ganglia5_0001\",\n",
    "\"D_inj_n3_25uM_4AP_ganglia6_0000\",\n",
    "\"F_inj_r1_25mM_tea_ganglia3_0000\",\n",
    "\"G_inj_r1_25mM_tea_ganglia4_0000\",\n",
    "\"H_inj_r1_25uM_4AP_ganglia5_0000\",\n",
    "\"I_inj_r1_25uM_4AP_ganglia6_0000\",\n",
    "\"J_inj_r1_control_0000_ganglia1\",\n",
    "\"K_inj_r1_control_ganglia3_0001\",\n",
    "\"L_inj_r1_control_ganglia5_0001\",\n",
    "\"M_inj_r2_25mM_tea_ganglia3_0000\",\n",
    "\"N_inj_r2_25mM_tea_ganglia4_0000\",\n",
    "\"O_inj_r2_25uM_4AP_ganglia5_0000\",\n",
    "\"P_inj_r2_25uM_4AP_ganglia6_0000\",\n",
    "\"Q_inj_r2_control_0000_ganglia1\",\n",
    "\"R_inj_r2_control_ganglia3_0000\",\n",
    "\"S_inj_r2_control_ganglia5_0000\"]\n",
    "\n",
    "\n",
    "#print(size(filenames))\n",
    "\n",
    "cleaned_files = []\n",
    "\n",
    "for i, file in enumerate(testfiles):\n",
    "    lines = cleanFile(testfiles[i])\n",
    "    cleaned_files.append(lines)\n",
    "    \n",
    "\n",
    "for i, cleaned_file in enumerate(cleaned_files):\n",
    "    firstline = cleaned_file[0] #the name of the file is always given as the first line.\n",
    "   # cleaned_file = \n",
    "    writeToFile('CLEAN_' + firstline + str(i))\n",
    "    print(i, \" done!\")\n",
    "\n",
    "\n"
   ]
  },
  {
   "cell_type": "code",
   "execution_count": 140,
   "metadata": {},
   "outputs": [],
   "source": [
    "# work in progress. \n",
    "# PROBLEM: not updating the file? \n",
    "#takes the filenames you wish to clean up as a list [\"file1\", 'file2', ...]\n",
    "#make sure the FINAL filename you wish the files to be called is written as the FIRST line of ur input text files. sample format in documentation\n",
    "def clean_and_write(fileNames):\n",
    "    fileArr = fileNames;\n",
    "    cleaned_files = []\n",
    "    #cleaning up the files.\n",
    "    for i, file in enumerate(fileArr):\n",
    "        lines = cleanFile(fileArr[i])\n",
    "        cleaned_files.append(lines)\n",
    "\n",
    "\n",
    "    for j, cleaned_file in enumerate(cleaned_files):\n",
    "    #    clean = cleaned_files[i]\n",
    "        firstline = cleaned_file[0] #the name of the file is always given as the first line.\n",
    "        writeToFile('clean_' + firstline +str(j))\n",
    "        \n",
    "    print(\"done!\")\n",
    "        \n",
    "        \n",
    "        "
   ]
  },
  {
   "cell_type": "code",
   "execution_count": 141,
   "metadata": {},
   "outputs": [
    {
     "name": "stdout",
     "output_type": "stream",
     "text": [
      "done!\n"
     ]
    }
   ],
   "source": [
    "testnames = [\"test1\",\"test2\",\"test3\",\"test4\",\"test5\"]\n",
    "\n",
    "clean_and_write(testnames)"
   ]
  },
  {
   "cell_type": "code",
   "execution_count": 149,
   "metadata": {},
   "outputs": [
    {
     "name": "stdout",
     "output_type": "stream",
     "text": [
      "18\n"
     ]
    }
   ],
   "source": [
    "testfiles = [\"A_inj_n1_25uM_4AP_ganglia5_0000\",\n",
    "\"B_inj_n2_25uM_4AP_ganglia6_0000\",\n",
    "\"C_inj_n2_25uM_4AP_ganglia5_0001\",\n",
    "\"D_inj_n3_25uM_4AP_ganglia6_0000\",\n",
    "\"F_inj_r1_25mM_tea_ganglia3_0000\",\n",
    "\"G_inj_r1_25mM_tea_ganglia4_0000\",\n",
    "\"H_inj_r1_25uM_4AP_ganglia5_0000\",\n",
    "\"I_inj_r1_25uM_4AP_ganglia6_0000\",\n",
    "\"J_inj_r1_control_0000_ganglia1\",\n",
    "\"K_inj_r1_control_ganglia3_0001\",\n",
    "\"L_inj_r1_control_ganglia5_0001\",\n",
    "\"M_inj_r2_25mM_tea_ganglia3_0000\",\n",
    "\"N_inj_r2_25mM_tea_ganglia4_0000\",\n",
    "\"O_inj_r2_25uM_4AP_ganglia5_0000\",\n",
    "\"P_inj_r2_25uM_4AP_ganglia6_0000\",\n",
    "\"Q_inj_r2_control_0000_ganglia1\",\n",
    "\"R_inj_r2_control_ganglia3_0000\",\n",
    "\"S_inj_r2_control_ganglia5_0000\"]\n",
    "\n",
    "\n",
    "print(len(testfiles))"
   ]
  },
  {
   "cell_type": "code",
   "execution_count": null,
   "metadata": {},
   "outputs": [],
   "source": []
  }
 ],
 "metadata": {
  "kernelspec": {
   "display_name": "Python 3",
   "language": "python",
   "name": "python3"
  },
  "language_info": {
   "codemirror_mode": {
    "name": "ipython",
    "version": 3
   },
   "file_extension": ".py",
   "mimetype": "text/x-python",
   "name": "python",
   "nbconvert_exporter": "python",
   "pygments_lexer": "ipython3",
   "version": "3.7.6"
  }
 },
 "nbformat": 4,
 "nbformat_minor": 2
}
