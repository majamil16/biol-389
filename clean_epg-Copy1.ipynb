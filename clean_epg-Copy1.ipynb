{
 "cells": [
  {
   "cell_type": "code",
   "execution_count": 74,
   "metadata": {},
   "outputs": [],
   "source": [
    "import numpy as np"
   ]
  },
  {
   "cell_type": "code",
   "execution_count": 147,
   "metadata": {},
   "outputs": [],
   "source": [
    "input_file = \n"
   ]
  },
  {
   "cell_type": "code",
   "execution_count": 171,
   "metadata": {},
   "outputs": [],
   "source": [
    "def cleanFile(filename):\n",
    "    mylines = []\n",
    "    with open(filename, \"rt\") as myfile: \n",
    "        for myline in myfile:\n",
    "            if (myline.startswith(\"Measure\")) or (myline.startswith(\"Time\") or (myline == '\\n')):\n",
    "                myline.rstrip('\\n')\n",
    "            else:\n",
    "                mylines.append(myline.rstrip('\\n'))\n",
    " \n",
    "    return mylines\n"
   ]
  },
  {
   "cell_type": "code",
   "execution_count": null,
   "metadata": {},
   "outputs": [],
   "source": [
    "cleaned_file = cleanFile(input_file) #output of clean_file is this; to be use in write to file"
   ]
  },
  {
   "cell_type": "code",
   "execution_count": 154,
   "metadata": {},
   "outputs": [],
   "source": [
    "def writeToFile(filename): #input what you want ur file to be called as the filename\n",
    "    with open(filename, \"wt\") as myfile: \n",
    "        for line in cleaned_file:\n",
    "            myfile.writelines(line+ '\\n')\n"
   ]
  },
  {
   "cell_type": "code",
   "execution_count": 173,
   "metadata": {},
   "outputs": [],
   "source": [
    "writeToFile(\"ser_tyr_results\") #should have this file in ur directory."
   ]
  }
 ],
 "metadata": {
  "kernelspec": {
   "display_name": "Python 3",
   "language": "python",
   "name": "python3"
  },
  "language_info": {
   "codemirror_mode": {
    "name": "ipython",
    "version": 3
   },
   "file_extension": ".py",
   "mimetype": "text/x-python",
   "name": "python",
   "nbconvert_exporter": "python",
   "pygments_lexer": "ipython3",
   "version": "3.7.3"
  }
 },
 "nbformat": 4,
 "nbformat_minor": 2
}
